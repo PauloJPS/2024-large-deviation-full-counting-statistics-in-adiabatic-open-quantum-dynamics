{
 "cells": [
  {
   "cell_type": "code",
   "execution_count": 1,
   "id": "e361c7a3",
   "metadata": {},
   "outputs": [],
   "source": [
    "import qutip as qt\n",
    "import numpy as np\n",
    "import scipy as sp\n",
    "import matplotlib.pyplot as plt\n",
    "import matplotlib.ticker as mtick\n",
    "import time\n",
    "\n",
    "from scipy import optimize\n",
    "from scipy.optimize import minimize\n",
    "from scipy.integrate import solve_ivp\n",
    "from scipy.linalg import sqrtm\n",
    "\n",
    "from mpl_toolkits.axes_grid1.inset_locator import inset_axes\n",
    "\n",
    "\n",
    "np.set_printoptions(linewidth=np.inf)\n",
    "\n",
    "#### parallelization \n",
    "options = qt.Options(num_cpus=6)\n"
   ]
  },
  {
   "cell_type": "code",
   "execution_count": 2,
   "id": "26a67567",
   "metadata": {},
   "outputs": [],
   "source": [
    "\n",
    "### Setup matplotlib\n",
    "\n",
    "plt.rcParams.update({\n",
    "    \"text.usetex\": True,\n",
    "    \"mathtext.fontset\" : \"stix\",\n",
    "    \"font.family\" : \"Times New Roman\", \n",
    "    \"text.latex.preamble\": r\"\\usepackage[T1]{fontenc} \\usepackage{lmodern} \\usepackage{amsmath} \\usepackage{amstext}  \\usepackage{amsfonts}\",\n",
    "    #\n",
    "    \"savefig.dpi\" : 300,\n",
    "    \"xtick.minor.visible\": True, \n",
    "    \"ytick.minor.visible\": True,\n",
    "    \n",
    "    \"ytick.right\": True,\n",
    "    \"ytick.left\": True,\n",
    "\n",
    "    \"xtick.top\": True,\n",
    "    \"xtick.bottom\": True,\n",
    " \n",
    "    #\n",
    "    \"xtick.direction\": \"in\",\n",
    "    \"ytick.direction\": \"in\",\n",
    "    #\n",
    "    \"xtick.major.width\": 1.5,     # major tick width in points\n",
    "    \"ytick.major.width\": 1.5,     # major tick width in points\n",
    "    #\n",
    "    \"xtick.minor.width\": 1.5,     # minor tick width in points\n",
    "    \"ytick.minor.width\": 1.5,     # minor tick width in points\n",
    "    #\n",
    "    \"xtick.major.pad\": 3.0,     # distance to major tick label in points\n",
    "    \"ytick.major.pad\": 3.0,     # distance to major tick label in points\n",
    "    #\n",
    "    \"xtick.minor.pad\": 1.5,     # distance to the minor tick label in points\n",
    "    \"ytick.minor.pad\": 1.5,     # distance to the minor tick label in points\n",
    "    #\n",
    "    \"xtick.major.size\": 3.0, \n",
    "    \"ytick.major.size\": 3.0,\n",
    "    \n",
    "    \"xtick.minor.size\": 3.0, \n",
    "    \"ytick.minor.size\": 3.0,\n",
    "    #\n",
    "    \"xtick.labelsize\": 20, \n",
    "    \"ytick.labelsize\": 20,\n",
    "    #\n",
    "    \"legend.frameon\": True, \n",
    "    \"legend.fontsize\": 20, \n",
    "    \"legend.edgecolor\": \"black\",\n",
    "    \"axes.titlesize\": 20, \n",
    "    \"axes.titleweight\": \"bold\",\n",
    "    \"axes.labelsize\":20 \n",
    "})\n",
    "\n",
    "##############\n",
    "####### \n",
    "### Functions for evaluating the dominant eigenvalue"
   ]
  },
  {
   "cell_type": "code",
   "execution_count": 3,
   "id": "f321b414",
   "metadata": {},
   "outputs": [],
   "source": [
    "\n",
    "\n",
    "def Get_maximum(vector):\n",
    "    \"\"\"\n",
    "    This function returns the maximum value and the corresponding index in a given vector.\n",
    "    \n",
    "    Parameters:\n",
    "    vector: array-like \n",
    "        Input vector to search for the maximum value. \n",
    "    \n",
    "    Returns: \n",
    "    max_value: float\n",
    "        Maximum value found in the input vector.\n",
    "    aux_idx: int\n",
    "        Index of the maximum value in the input vector.\n",
    "    \"\"\"\n",
    "    \n",
    "    # Initialize variables for index and maximum value\n",
    "    aux_idx = 0\n",
    "    max_value = -np.Infinity\n",
    "    \n",
    "    # Enumerate through the vector, checking each value\n",
    "    for idx, value in enumerate(vector):\n",
    "        \n",
    "        # If the current maximum value is greater than the real part of the current value\n",
    "        if np.real(max_value) < np.real(value): \n",
    "            \n",
    "            # Update the maximum value and the corresponding index\n",
    "            max_value = value\n",
    "            aux_idx = idx\n",
    "            \n",
    "    # Return the maximum value and its index\n",
    "    return max_value, aux_idx\n",
    "\n",
    "\n",
    "\n",
    "def Numeric_diagonalization(Ws, side=\"left\"):\n",
    "    \"\"\"\n",
    "    This function performs the numeric diagonalization of a given matrix, \n",
    "    returning the maximum eigenvalue and the corresponding eigenvector.\n",
    "\n",
    "    Parameters:\n",
    "    Ws: array-like\n",
    "        Matrix to be diagonalized. \n",
    "\n",
    "    Returns:\n",
    "    e_values[idx]: float\n",
    "        Dominant (maximum) eigenvalue of the matrix.\n",
    "    e_rightvectors[idx]: array-like\n",
    "        Eigenvector corresponding to the dominant eigenvalue.\n",
    "    \"\"\"\n",
    "    # Calculate the eigenvalues and left eigenvectors of the transpose of the input matrix\n",
    "    if side == \"left\":\n",
    "        e_values, e_vectors = np.linalg.eig(np.conjugate(Ws).T)\n",
    "        # Get the maximum eigenvalue and its corresponding index\n",
    "        dominant_e, idx = Get_maximum(e_values)\n",
    "\n",
    "        # Get dimension\n",
    "        d = int(np.sqrt(np.shape(Ws)[0]))\n",
    "    \n",
    "        # reshaping the result\n",
    "        e_mat = np.reshape(e_vectors[:,idx], (d,d))\n",
    "        \n",
    "        # Return the dominant eigenvalue and corresponding (left or right) eigen matrix\n",
    "        return e_values[idx], np.conjugate(e_mat)\n",
    "    elif side == \"right\":\n",
    "        e_values, e_vectors = np.linalg.eig(Ws)\n",
    "        # Get the maximum eigenvalue and its corresponding index\n",
    "        dominant_e, idx = Get_maximum(e_values)\n",
    "\n",
    "        # Get dimension\n",
    "        d = int(np.sqrt(np.shape(Ws)[0]))\n",
    "    \n",
    "        # reshaping the result\n",
    "        e_mat = np.reshape(e_vectors[:,idx], (d,d))\n",
    "        \n",
    "        # Return the dominant eigenvalue and corresponding (left or right) eigen matrix\n",
    "        return e_values[idx], e_mat/np.trace(e_mat)\n",
    "        \n",
    "    else: raise ValueError('You have to choose or left or right')\n",
    "\n",
    "###############\n",
    "####### Coding \n",
    "###############"
   ]
  },
  {
   "cell_type": "code",
   "execution_count": 4,
   "id": "8648f610",
   "metadata": {},
   "outputs": [],
   "source": [
    "def entropy_prod_current(t, jump, args):\n",
    "    ### if hot bath\n",
    "\n",
    "    if jump == 0:  # |0><1| \n",
    "        return -args[\"beta_h\"](t, args)*(args[\"omega\"] - args[\"Omega\"])\n",
    "    elif jump == 1:# |1><0|\n",
    "        return args[\"beta_h\"](t, args)*(args[\"omega\"] - args[\"Omega\"])\n",
    "    elif jump == 2:# |0><2|\n",
    "        return -args[\"beta_h\"](t, args)*(args[\"omega\"] + args[\"Omega\"])\n",
    "    elif jump == 3:# |2><0|\n",
    "        return args[\"beta_h\"](t, args)*(args[\"omega\"] + args[\"Omega\"])\n",
    "    elif jump == 4:# |1><3|\n",
    "        return -args[\"beta_h\"](t, args)*(args[\"omega\"] + args[\"Omega\"])\n",
    "    elif jump == 5:# |3><1|\n",
    "        return args[\"beta_h\"](t, args)*(args[\"omega\"] + args[\"Omega\"])\n",
    "    elif jump == 6:# |2><3|\n",
    "        return -args[\"beta_h\"](t, args)*(args[\"omega\"] - args[\"Omega\"])\n",
    "    elif jump == 7:# |3><2|\n",
    "        return args[\"beta_h\"](t, args)*(args[\"omega\"] - args[\"Omega\"])\n",
    "    \n",
    "    ### if cold bath\n",
    "\n",
    "    elif jump == 8:# |0><1|\n",
    "        return -args[\"beta0_c\"]*(args[\"omega\"] - args[\"Omega\"])\n",
    "    elif jump == 9:# |1><0|\n",
    "        return args[\"beta0_c\"]*(args[\"omega\"]  - args[\"Omega\"])\n",
    "    elif jump == 10:# |0><2|\n",
    "        return -args[\"beta0_c\"]*(args[\"omega\"] + args[\"Omega\"])\n",
    "    elif jump == 11:# |2><0|\n",
    "        return args[\"beta0_c\"]*(args[\"omega\"] + args[\"Omega\"])\n",
    "    elif jump == 12:# |1><3|\n",
    "        return -args[\"beta0_c\"]*(args[\"omega\"] + args[\"Omega\"])\n",
    "    elif jump == 13:# |3><1|\n",
    "        return args[\"beta0_c\"]*(args[\"omega\"] + args[\"Omega\"])\n",
    "    elif jump == 14:# |2><3|\n",
    "        return -args[\"beta0_c\"]*(args[\"omega\"] - args[\"Omega\"])\n",
    "    elif jump == 15:# |3><2|\n",
    "        return args[\"beta0_c\"]*(args[\"omega\"] - args[\"Omega\"])\n",
    "    \n",
    "    \n",
    "    \n",
    "#def organize_jumps(col_times, col_which, Nboxes, args):\n",
    "#    # Set dt\n",
    "#    dt = args[\"tau\"]/(Nboxes)\n",
    "#    # Initialize N empty arrays\n",
    "#    times = [[] for _ in range(Nboxes)]\n",
    "#    jumps = [[] for _ in range(Nboxes)]\n",
    "#    entropy_current = [0 for _ in range(Nboxes)]\n",
    "#    \n",
    "#    # Organize time instants into arrays\n",
    "#    for i, t in enumerate(col_times):\n",
    "#        n = int(t // dt)\n",
    "#        times[n].append(t)\n",
    "#        jumps[n].append(col_which[i])\n",
    "#        entropy_current[n] += entropy_prod_current(t, col_which[i], args)\n",
    "#    return times, jumps, np.array(entropy_current)/dt\n",
    "\n",
    "def Trott_organize_jumps(col_times, col_which, Nboxes, args):\n",
    "    # Initialize empty array\n",
    "    dt = args[\"tau\"]/(Nboxes)\n",
    "    \n",
    "    entropy_current = [0 for _ in range(Nboxes)]\n",
    "    \n",
    "    # Organize time instants into arrays\n",
    "    for i, col_list in enumerate(col_which):\n",
    "        for j, col in enumerate(col_list):\n",
    "            entropy_current[i] += entropy_prod_current(col_times[i][j], col, args)\n",
    "    print(entropy_current)\n",
    "    return np.array(entropy_current)/dt"
   ]
  },
  {
   "cell_type": "code",
   "execution_count": 5,
   "id": "c57098d4",
   "metadata": {},
   "outputs": [],
   "source": [
    "########## Rates \n",
    "\n",
    "##### hot bath\n",
    "def J_01_h_rate(t, args): \n",
    "    return (np.sqrt(args[\"alpha_h\"] * (args[\"omega\"] - args[\"Omega\"]) ** 3 \n",
    "                    * (1 + 1 / (np.exp(args[\"beta_h\"](t, args) * (args[\"omega\"] - args[\"Omega\"])) - 1))) ) \n",
    "    \n",
    "def J_10_h_rate(t, args):\n",
    "    return (np.sqrt(args[\"alpha_h\"] * (args[\"omega\"] - args[\"Omega\"]) ** 3 \n",
    "                    * (0 + 1 / (np.exp(args[\"beta_h\"](t, args) * (args[\"omega\"] - args[\"Omega\"])) - 1)))) \n",
    "    \n",
    "def J_02_h_rate(t, args):\n",
    "    return (np.sqrt(args[\"alpha_h\"] * (args[\"omega\"] + args[\"Omega\"]) ** 3 \n",
    "                    * (1 + 1 / (np.exp(args[\"beta_h\"](t, args) * (args[\"omega\"] + args[\"Omega\"])) - 1)))) \n",
    "    \n",
    "def J_20_h_rate(t, args):\n",
    "    return (np.sqrt(args[\"alpha_h\"] * (args[\"omega\"] + args[\"Omega\"]) ** 3 \n",
    "                    * (0 + 1 / (np.exp(args[\"beta_h\"](t, args) * (args[\"omega\"] + args[\"Omega\"])) - 1))))     \n",
    "    \n",
    "def J_13_h_rate(t, args):\n",
    "    return (np.sqrt(args[\"alpha_h\"] * (args[\"omega\"] + args[\"Omega\"]) ** 3 \n",
    "                    * (1 + 1 / (np.exp(args[\"beta_h\"](t, args) * (args[\"omega\"] + args[\"Omega\"])) - 1))))\n",
    "    \n",
    "def J_31_h_rate(t, args):\n",
    "    return (np.sqrt(args[\"alpha_h\"] * (args[\"omega\"] + args[\"Omega\"]) ** 3 \n",
    "                    * (0 + 1 / (np.exp(args[\"beta_h\"](t, args) * (args[\"omega\"] + args[\"Omega\"])) - 1)))) \n",
    "    \n",
    "def J_23_h_rate(t, args):\n",
    "    return (np.sqrt(args[\"alpha_h\"] * (args[\"omega\"] - args[\"Omega\"]) ** 3 \n",
    "                    * (1 + 1 / (np.exp(args[\"beta_h\"](t, args) * (args[\"omega\"] - args[\"Omega\"])) - 1))))\n",
    "       \n",
    "def J_32_h_rate(t, args):\n",
    "    return (np.sqrt(args[\"alpha_h\"] * (args[\"omega\"] - args[\"Omega\"]) ** 3 \n",
    "                    * (0 + 1 / (np.exp(args[\"beta_h\"](t, args) * (args[\"omega\"] - args[\"Omega\"])) - 1))))\n",
    "    \n",
    "##### cold bath\n",
    "    \n",
    "def J_01_c_rate(t, args): \n",
    "    return (np.sqrt(args[\"alpha_c\"] * (args[\"omega\"] - args[\"Omega\"]) ** 3 \n",
    "                    * (1 + 1 / (np.exp(args[\"beta0_c\"] * (args[\"omega\"] - args[\"Omega\"])) - 1))) ) \n",
    "\n",
    "def J_10_c_rate(t, args):\n",
    "    return (np.sqrt(args[\"alpha_c\"] * (args[\"omega\"] - args[\"Omega\"]) ** 3 \n",
    "                    * (0 + 1 / (np.exp(args[\"beta0_c\"] * (args[\"omega\"] - args[\"Omega\"])) - 1)))) \n",
    "    \n",
    "def J_02_c_rate(t, args):\n",
    "    return (np.sqrt(args[\"alpha_c\"] * (args[\"omega\"] + args[\"Omega\"]) ** 3 \n",
    "                    * (1 + 1 / (np.exp(args[\"beta0_c\"] * (args[\"omega\"] + args[\"Omega\"])) - 1)))) \n",
    "    \n",
    "def J_20_c_rate(t, args):\n",
    "    return (np.sqrt(args[\"alpha_c\"] * (args[\"omega\"] + args[\"Omega\"]) ** 3 \n",
    "                    * (0 + 1 / (np.exp(args[\"beta0_c\"] * (args[\"omega\"] + args[\"Omega\"])) - 1))))     \n",
    "    \n",
    "def J_13_c_rate(t, args):\n",
    "    return (np.sqrt(args[\"alpha_c\"] * (args[\"omega\"] + args[\"Omega\"]) ** 3 \n",
    "                    * (1 + 1 / (np.exp(args[\"beta0_c\"] * (args[\"omega\"] + args[\"Omega\"])) - 1))))\n",
    "    \n",
    "def J_31_c_rate(t, args):\n",
    "    return (np.sqrt(args[\"alpha_c\"] * (args[\"omega\"] + args[\"Omega\"]) ** 3 \n",
    "                    * (0 + 1 / (np.exp(args[\"beta0_c\"] * (args[\"omega\"] + args[\"Omega\"])) - 1)))) \n",
    "    \n",
    "def J_23_c_rate(t, args):\n",
    "    return (np.sqrt(args[\"alpha_c\"] * (args[\"omega\"] - args[\"Omega\"]) ** 3 \n",
    "                    * (1 + 1 / (np.exp(args[\"beta0_c\"] * (args[\"omega\"] - args[\"Omega\"])) - 1))))\n",
    "       \n",
    "def J_32_c_rate(t, args):\n",
    "    return (np.sqrt(args[\"alpha_c\"] * (args[\"omega\"] - args[\"Omega\"]) ** 3 \n",
    "                    * (0 + 1 / (np.exp(args[\"beta0_c\"] * (args[\"omega\"] - args[\"Omega\"])) - 1))))\n",
    "    \n"
   ]
  },
  {
   "cell_type": "code",
   "execution_count": 6,
   "id": "ce5c83c4-d8b5-4816-a8c9-cef960b60e5e",
   "metadata": {},
   "outputs": [],
   "source": [
    "def DualSuperOperator_Lindbladian(O, t, H0, cops, args):\n",
    "    \"\"\"\n",
    "        Code for checking if the left eigenmatrix is the actual one \n",
    "    \"\"\"\n",
    "    omega = args[\"omega\"]\n",
    "    Omega = args[\"Omega\"]\n",
    "    s = args[\"s_func\"](t, args)\n",
    "    print(s)\n",
    "\n",
    "    bh = args[\"beta_h\"](t, args)\n",
    "    bc = args[\"beta0_c\"]\n",
    "\n",
    "    #for c in cops:\n",
    "    #    Heff -= 0.5j * c.dag() * c\n",
    "    dO = 1.0j*( H0 * O - O * H0)\n",
    "    \n",
    "    for i, c in enumerate(cops):\n",
    "        dO += (np.exp(-args[\"s_func\"](t, args)*entropy_prod_current(t, i, args)) * c.dag() * O * c \n",
    "               -  0.5 * (c.dag() * c * O + O * c.dag() * c) )\n",
    "    return dO "
   ]
  },
  {
   "cell_type": "code",
   "execution_count": 13,
   "id": "99958f10-6f3b-49e0-90f3-ad3ce46cfad3",
   "metadata": {},
   "outputs": [],
   "source": [
    "#Ls = Tilted_lindbladian(args[\"tau\"]/2, H0, [c[0]*c[1](args[\"tau\"]/2, args) for c in c_ops_list], args)\n",
    "#lambda0, l0 = Numeric_diagonalization(Ls, side=\"left\")\n",
    "\n",
    "#ll0 = DualSuperOperator_Lindbladian(np.conjugate(l0), args[\"tau\"]/2, H0, [c[0]*c[1](args[\"tau\"]/2, args) for c in c_ops_list], args)\n"
   ]
  },
  {
   "cell_type": "code",
   "execution_count": null,
   "id": "ca3cb8c5-11ba-4b4c-9048-da85df89a2eb",
   "metadata": {},
   "outputs": [],
   "source": []
  },
  {
   "cell_type": "code",
   "execution_count": 14,
   "id": "f2eadf42-bcba-4daf-a554-62d8806e25d2",
   "metadata": {},
   "outputs": [],
   "source": [
    "def Tilted_lindbladian(t, H0, cops, args):\n",
    "    \n",
    "    omega = args[\"omega\"]\n",
    "    Omega = args[\"Omega\"]\n",
    "    s = args[\"s_func\"](t, args)\n",
    "    bh = args[\"beta_h\"](t, args)\n",
    "    bc = args[\"beta0_c\"]\n",
    "\n",
    "    \n",
    "    Ide = qt.tensor(qt.qeye(2), qt.qeye(2))\n",
    "\n",
    "    Flat_H0  = -1.0j*(qt.tensor(Ide, H0) - qt.tensor(H0.trans(), Ide)).full()\n",
    "     \n",
    "    J_01_h, J_10_h, J_02_h, J_20_h, J_13_h, J_31_h, J_23_h, J_32_h = cops[0:8]\n",
    "    J_01_c, J_10_c, J_02_c, J_20_c, J_13_c, J_31_c, J_23_c, J_32_c = cops[8:]\n",
    "    \n",
    "    ########### Flattening the operators \n",
    "    Ide = qt.tensor(qt.qeye(2), qt.qeye(2))\n",
    "\n",
    "    ####### Non-hermitian evolution \n",
    "    ## hot bath\n",
    "    \n",
    "    Flat_J_01_h = -(1.0/2.0)*(qt.tensor(Ide, J_01_h.dag()*J_01_h) + qt.tensor((J_01_h.dag()*J_01_h).trans(), Ide)).full()\n",
    "    Flat_J_02_h = -(1.0/2.0)*(qt.tensor(Ide, J_02_h.dag()*J_02_h) + qt.tensor((J_02_h.dag()*J_02_h).trans(), Ide)).full()\n",
    "    Flat_J_13_h = -(1.0/2.0)*(qt.tensor(Ide, J_13_h.dag()*J_13_h) + qt.tensor((J_13_h.dag()*J_13_h).trans(), Ide)).full()\n",
    "    Flat_J_23_h = -(1.0/2.0)*(qt.tensor(Ide, J_23_h.dag()*J_23_h) + qt.tensor((J_23_h.dag()*J_23_h).trans(), Ide)).full()\n",
    "\n",
    "    Flat_J_10_h = -(1.0/2.0)*(qt.tensor(Ide, J_10_h.dag()*J_10_h) + qt.tensor((J_10_h.dag()*J_10_h).trans(), Ide)).full()\n",
    "    Flat_J_20_h = -(1.0/2.0)*(qt.tensor(Ide, J_20_h.dag()*J_20_h) + qt.tensor((J_20_h.dag()*J_20_h).trans(), Ide)).full()\n",
    "    Flat_J_31_h = -(1.0/2.0)*(qt.tensor(Ide, J_31_h.dag()*J_31_h) + qt.tensor((J_31_h.dag()*J_31_h).trans(), Ide)).full()\n",
    "    Flat_J_32_h = -(1.0/2.0)*(qt.tensor(Ide, J_32_h.dag()*J_32_h) + qt.tensor((J_32_h.dag()*J_32_h).trans(), Ide)).full()\n",
    "\n",
    "    ## cold bath\n",
    "    Flat_J_01_c = -(1.0/2.0)*(qt.tensor(Ide, J_01_c.dag()*J_01_c) + qt.tensor((J_01_c.dag()*J_01_c).trans(), Ide)).full()\n",
    "    Flat_J_02_c = -(1.0/2.0)*(qt.tensor(Ide, J_02_c.dag()*J_02_c) + qt.tensor((J_02_c.dag()*J_02_c).trans(), Ide)).full()\n",
    "    Flat_J_13_c = -(1.0/2.0)*(qt.tensor(Ide, J_13_c.dag()*J_13_c) + qt.tensor((J_13_c.dag()*J_13_c).trans(), Ide)).full()\n",
    "    Flat_J_23_c = -(1.0/2.0)*(qt.tensor(Ide, J_23_c.dag()*J_23_c) + qt.tensor((J_23_c.dag()*J_23_c).trans(), Ide)).full()\n",
    "\n",
    "    Flat_J_10_c = -(1.0/2.0)*(qt.tensor(Ide, J_10_c.dag()*J_10_c) + qt.tensor((J_10_c.dag()*J_10_c).trans(), Ide)).full()\n",
    "    Flat_J_20_c = -(1.0/2.0)*(qt.tensor(Ide, J_20_c.dag()*J_20_c) + qt.tensor((J_20_c.dag()*J_20_c).trans(), Ide)).full()\n",
    "    Flat_J_31_c = -(1.0/2.0)*(qt.tensor(Ide, J_31_c.dag()*J_31_c) + qt.tensor((J_31_c.dag()*J_31_c).trans(), Ide)).full()\n",
    "    Flat_J_32_c = -(1.0/2.0)*(qt.tensor(Ide, J_32_c.dag()*J_32_c) + qt.tensor((J_32_c.dag()*J_32_c).trans(), Ide)).full()\n",
    "\n",
    "    \n",
    "    Flat_Inc_h = (Flat_J_01_h + Flat_J_02_h + Flat_J_13_h + Flat_J_23_h\n",
    "                + Flat_J_10_h + Flat_J_20_h + Flat_J_31_h + Flat_J_32_h)\n",
    "\n",
    "    Flat_Inc_c = (Flat_J_01_c + Flat_J_02_c + Flat_J_13_c + Flat_J_23_c\n",
    "                + Flat_J_10_c + Flat_J_20_c + Flat_J_31_c + Flat_J_32_c)\n",
    "\n",
    "    ####### Jumps \n",
    "    # hot bath\n",
    "    Flat_jump_J_01_h = (qt.tensor(J_01_h.conj(),J_01_h)).full()\n",
    "    Flat_jump_J_02_h = (qt.tensor(J_02_h.conj(),J_02_h)).full()\n",
    "    Flat_jump_J_13_h = (qt.tensor(J_13_h.conj(),J_13_h)).full()\n",
    "    Flat_jump_J_23_h = (qt.tensor(J_23_h.conj(),J_23_h)).full()\n",
    "\n",
    "    Flat_jump_J_10_h = (qt.tensor(J_10_h.conj(),J_10_h)).full()\n",
    "    Flat_jump_J_20_h = (qt.tensor(J_20_h.conj(),J_20_h)).full()\n",
    "    Flat_jump_J_31_h = (qt.tensor(J_31_h.conj(),J_31_h)).full()\n",
    "    Flat_jump_J_32_h = (qt.tensor(J_32_h.conj(),J_32_h)).full()\n",
    "    \n",
    "    #cold bath\n",
    "    Flat_jump_J_01_c = (qt.tensor(J_01_c.conj(),J_01_c)).full()\n",
    "    Flat_jump_J_02_c = (qt.tensor(J_02_c.conj(),J_02_c)).full()\n",
    "    Flat_jump_J_13_c = (qt.tensor(J_13_c.conj(),J_13_c)).full()\n",
    "    Flat_jump_J_23_c = (qt.tensor(J_23_c.conj(),J_23_c)).full()\n",
    "\n",
    "    Flat_jump_J_10_c = (qt.tensor(J_10_c.conj(),J_10_c)).full()\n",
    "    Flat_jump_J_20_c = (qt.tensor(J_20_c.conj(),J_20_c)).full()\n",
    "    Flat_jump_J_31_c = (qt.tensor(J_31_c.conj(),J_31_c)).full()\n",
    "    Flat_jump_J_32_c = (qt.tensor(J_32_c.conj(),J_32_c)).full()\n",
    "\n",
    "    Flat_Jump_h = (  np.exp(+s*(omega-Omega)*bh)*Flat_jump_J_01_h \n",
    "                   + np.exp(+s*(omega+Omega)*bh)*Flat_jump_J_02_h \n",
    "                   + np.exp(+s*(omega+Omega)*bh)*Flat_jump_J_13_h \n",
    "                   + np.exp(+s*(omega-Omega)*bh)*Flat_jump_J_23_h\n",
    "\n",
    "                   + np.exp(-s*(omega-Omega)*bh)*Flat_jump_J_10_h \n",
    "                   + np.exp(-s*(omega+Omega)*bh)*Flat_jump_J_20_h \n",
    "                   + np.exp(-s*(omega+Omega)*bh)*Flat_jump_J_31_h \n",
    "                   + np.exp(-s*(omega-Omega)*bh)*Flat_jump_J_32_h)\n",
    "\n",
    "    Flat_Jump_c = (  np.exp(+s*(omega-Omega)*bc)*Flat_jump_J_01_c \n",
    "                   + np.exp(+s*(omega+Omega)*bc)*Flat_jump_J_02_c \n",
    "                   + np.exp(+s*(omega+Omega)*bc)*Flat_jump_J_13_c \n",
    "                   + np.exp(+s*(omega-Omega)*bc)*Flat_jump_J_23_c\n",
    "\n",
    "                   + np.exp(-s*(omega-Omega)*bc)*Flat_jump_J_10_c \n",
    "                   + np.exp(-s*(omega+Omega)*bc)*Flat_jump_J_20_c \n",
    "                   + np.exp(-s*(omega+Omega)*bc)*Flat_jump_J_31_c \n",
    "                   + np.exp(-s*(omega-Omega)*bc)*Flat_jump_J_32_c)\n",
    "\n",
    "    Lst = Flat_H0 + Flat_Inc_h + Flat_Jump_h + Flat_Inc_c + Flat_Jump_c     \n",
    "\n",
    "    return Lst.astype(complex)\n",
    "\n",
    "\n"
   ]
  },
  {
   "cell_type": "code",
   "execution_count": 15,
   "id": "cdd65c19-fb18-463b-b768-6522666fe217",
   "metadata": {},
   "outputs": [],
   "source": [
    "def Doob_system(H0, c_ops, t, args):\n",
    "        \n",
    "    #### Tilted Lindbladian \n",
    "    Ls = Tilted_lindbladian(t, H0, c_ops, args)\n",
    "    lambda0, l0 = Numeric_diagonalization(Ls, side=\"left\")\n",
    "        \n",
    "    #### Non-hermitian term of the deterministic evolution\n",
    "        \n",
    "    Heff = H0.copy()\n",
    "    for c in c_ops:\n",
    "        Heff -= 0.5j * c.dag() * c\n",
    "            \n",
    "    #### Calculating the Doob\n",
    "\n",
    "    l0sqr = qt.Qobj(l0, dims=[[2, 2], [2, 2]]).sqrtm()\n",
    "    Heff = l0sqr * Heff * l0sqr.inv()\n",
    "\n",
    "    Heff = 0.5*(Heff + Heff.dag())\n",
    "    Jauxlist = []\n",
    "    for j, c in enumerate(c_ops):\n",
    "        rotated_operator = l0sqr*c*l0sqr.inv()\n",
    "        rotated_rate = np.exp(-args[\"s_func\"](t, args)*entropy_prod_current(t, j, args)/2)\n",
    "        Jauxlist.append(rotated_rate*rotated_operator)\n",
    "            \n",
    "    return Heff, Jauxlist"
   ]
  },
  {
   "cell_type": "code",
   "execution_count": 16,
   "id": "733399ba-0d9d-47d1-b6f4-dc6f77d69bb1",
   "metadata": {},
   "outputs": [],
   "source": [
    "def OneTrajectory(H0, c_ops, psi, tlist, args):\n",
    "    jumps = []\n",
    "    times = []\n",
    "\n",
    "    dt = tlist[1]-tlist[0]\n",
    "    for i, t in enumerate(tlist):\n",
    "        print(t)\n",
    "        aux_tlist = np.linspace((i+1)*dt, (i+2)*dt, 1000)\n",
    "        aux_c_ops = [j[0]*(j[1](t, args)) for j in c_ops]\n",
    "        Haux, Jaux = Doob_system(H0, aux_c_ops, t, args)\n",
    "        result = qt.mcsolve(Haux, psi, aux_tlist, Jaux, args=args, ntraj=1)\n",
    "\n",
    "        jumps.append(result.col_which[0])\n",
    "        times.append(result.col_times[0])\n",
    "\n",
    "        psi = result.states[0][-1]\n",
    "    return jumps, times"
   ]
  },
  {
   "cell_type": "code",
   "execution_count": 17,
   "id": "c7e47799",
   "metadata": {},
   "outputs": [],
   "source": [
    "# Define the states\n",
    "ket00 = qt.tensor(qt.basis(2,1), qt.basis(2,1))\n",
    "ket01 = qt.tensor(qt.basis(2,1), qt.basis(2,0))\n",
    "ket10 = qt.tensor(qt.basis(2,0), qt.basis(2,1))\n",
    "ket11 = qt.tensor(qt.basis(2,0), qt.basis(2,0))\n",
    "\n",
    "sigmam_h = qt.tensor(qt.sigmam(), qt.qeye(2))\n",
    "sigmam_c = qt.tensor(qt.qeye(2), qt.sigmam())\n",
    "sigmap_h = qt.tensor(qt.sigmap(), qt.qeye(2))\n",
    "sigmap_c = qt.tensor(qt.qeye(2), qt.sigmap())\n",
    "\n",
    "sigmax_h = qt.tensor(qt.sigmax(), qt.qeye(2))\n",
    "sigmax_c = qt.tensor(qt.qeye(2), qt.sigmax())\n",
    "\n",
    "sigmaz_h = qt.tensor(qt.sigmaz(), qt.qeye(2))\n",
    "sigmaz_c = qt.tensor(qt.qeye(2), qt.sigmaz())\n",
    "\n",
    "eps0 = ket00\n",
    "eps1 = np.sqrt(1/2)*(ket01 - ket10)\n",
    "eps2 = np.sqrt(1/2)*(ket01 + ket10)\n",
    "eps3 = ket11\n",
    "    \n",
    "##### Transitions \n",
    "    \n",
    "J_01 = eps0 * eps1.dag()\n",
    "    \n",
    "J_10 = eps1 * eps0.dag() \n",
    "        \n",
    "J_02 = eps0 * eps2.dag()\n",
    "    \n",
    "J_20 = eps2 * eps0.dag()\n",
    "    \n",
    "J_13 = eps1 * eps3.dag()\n",
    "\n",
    "J_31 = eps3 * eps1.dag()\n",
    "\n",
    "J_23 = eps2 * eps3.dag()\n",
    "    \n",
    "J_32 = eps3 * eps2.dag()\n"
   ]
  },
  {
   "cell_type": "code",
   "execution_count": 18,
   "id": "5c547f7c",
   "metadata": {},
   "outputs": [],
   "source": [
    "#####\n",
    "# Putting it into a list \n",
    "    \n",
    "c_ops_list = [[J_01, J_01_h_rate], \n",
    "             [J_10, J_10_h_rate],\n",
    "             [J_02, J_02_h_rate],  \n",
    "             [J_20, J_20_h_rate],\n",
    "             [J_13, J_13_h_rate],\n",
    "             [J_31, J_31_h_rate], \n",
    "             [J_23, J_23_h_rate], \n",
    "             [J_32, J_32_h_rate], \n",
    "#####################################\n",
    "             [J_01, J_01_c_rate],\n",
    "             [J_10, J_10_c_rate], \n",
    "             [J_02, J_02_c_rate],\n",
    "             [J_20, J_20_c_rate],\n",
    "             [J_13, J_13_c_rate],\n",
    "             [J_31, J_31_c_rate],\n",
    "             [J_23, J_23_c_rate],\n",
    "             [J_32, J_32_c_rate]]\n"
   ]
  },
  {
   "cell_type": "code",
   "execution_count": 28,
   "id": "f33a4a2a",
   "metadata": {},
   "outputs": [],
   "source": [
    "####### Parameters \n",
    "\n",
    "omega = 1.0\n",
    "alpha_h = 1.0\n",
    "alpha_c = 1.0\n",
    "beta0_h = 1.0/(2.0) # T = 2\n",
    "beta_c = 1.0/(1.0) # T = 1\n",
    "Omega = 0.5\n",
    "g = 1.0\n",
    "\n",
    "def s_func(t, args):\n",
    "    #return np.tanh(2*t/args[\"tau\"] - 1)\n",
    "    return -0.25\n",
    "\n",
    "def beta_h(t, args):\n",
    "    return 1/(1/args[\"beta0_h\"] + np.sin(t*np.pi/args[\"tau\"])**2)\n",
    "\n",
    "\n",
    "############# Total dynamics time\n",
    "\n",
    "\n",
    "tau = 100*1000\n",
    "\n",
    "############# Argumets dict \n",
    "\n",
    "args  = {\"omega\":omega,\n",
    "         \"Omega\":Omega,\n",
    "         \"g\":g,\n",
    "         \"alpha_h\":alpha_h,\n",
    "         \"alpha_c\":alpha_c,\n",
    "         \"beta_h\":beta_h,\n",
    "         \"beta0_h\":beta0_h,\n",
    "         \"beta0_c\":beta_c,\n",
    "         \"tau\":tau,\n",
    "         \"s_func\":s_func }"
   ]
  },
  {
   "cell_type": "code",
   "execution_count": 29,
   "id": "712cc000",
   "metadata": {},
   "outputs": [],
   "source": [
    "####### Hamiltonian    \n",
    "    \n",
    "H0 = (Omega*( sigmam_h*sigmap_c + sigmap_h*sigmam_c) \n",
    "        + g*(sigmax_c + sigmax_h) \n",
    "        + (omega/2)*(sigmaz_c + sigmaz_h))\n",
    "\n",
    "####### Initial state\n",
    "\n",
    "psi0 = ket00.copy()\n",
    "\n",
    "####### Time window \n",
    "Nsteps = 100\n",
    "tlist = np.linspace(0, tau, Nsteps)"
   ]
  },
  {
   "cell_type": "code",
   "execution_count": 30,
   "id": "8e64f3df-c09a-464f-a062-1eead8846fa6",
   "metadata": {},
   "outputs": [
    {
     "name": "stdout",
     "output_type": "stream",
     "text": [
      "0.0\n",
      "Total run time:   0.89s\n",
      "1010.10101010101\n",
      "Total run time:   0.87s\n",
      "2020.20202020202\n",
      "Total run time:   0.92s\n",
      "3030.30303030303\n",
      "Total run time:   0.88s\n",
      "4040.40404040404\n",
      "Total run time:   0.87s\n",
      "5050.50505050505\n",
      "Total run time:   0.89s\n",
      "6060.60606060606\n",
      "Total run time:   0.88s\n",
      "7070.707070707071\n",
      "Total run time:   0.87s\n",
      "8080.80808080808\n",
      "Total run time:   0.91s\n",
      "9090.90909090909\n",
      "Total run time:   0.93s\n",
      "10101.0101010101\n",
      "Total run time:   0.90s\n",
      "11111.111111111111\n",
      "Total run time:   0.94s\n",
      "12121.21212121212\n",
      "Total run time:   0.90s\n",
      "13131.31313131313\n",
      "Total run time:   0.92s\n",
      "14141.414141414141\n",
      "Total run time:   0.94s\n",
      "15151.51515151515\n",
      "Total run time:   0.95s\n",
      "16161.61616161616\n",
      "Total run time:   0.95s\n",
      "17171.71717171717\n",
      "Total run time:   0.95s\n",
      "18181.81818181818\n",
      "Total run time:   0.96s\n",
      "19191.91919191919\n",
      "Total run time:   1.00s\n",
      "20202.0202020202\n",
      "Total run time:   0.99s\n",
      "21212.121212121212\n",
      "Total run time:   1.00s\n",
      "22222.222222222223\n",
      "Total run time:   1.06s\n",
      "23232.32323232323\n",
      "Total run time:   1.00s\n",
      "24242.42424242424\n",
      "Total run time:   1.03s\n",
      "25252.52525252525\n",
      "Total run time:   1.03s\n",
      "26262.62626262626\n",
      "Total run time:   1.03s\n",
      "27272.727272727272\n",
      "Total run time:   1.06s\n",
      "28282.828282828283\n",
      "Total run time:   1.08s\n",
      "29292.92929292929\n",
      "Total run time:   1.08s\n",
      "30303.0303030303\n",
      "Total run time:   1.08s\n",
      "31313.13131313131\n",
      "Total run time:   1.08s\n",
      "32323.23232323232\n",
      "Total run time:   1.11s\n",
      "33333.33333333333\n",
      "Total run time:   1.13s\n",
      "34343.43434343434\n",
      "Total run time:   1.11s\n",
      "35353.53535353535\n",
      "Total run time:   1.14s\n",
      "36363.63636363636\n",
      "Total run time:   1.12s\n",
      "37373.73737373737\n",
      "Total run time:   1.14s\n",
      "38383.83838383838\n",
      "Total run time:   1.15s\n",
      "39393.93939393939\n",
      "Total run time:   1.16s\n",
      "40404.0404040404\n",
      "Total run time:   1.17s\n",
      "41414.14141414141\n",
      "Total run time:   1.17s\n",
      "42424.242424242424\n",
      "Total run time:   1.19s\n",
      "43434.343434343435\n",
      "Total run time:   1.16s\n",
      "44444.444444444445\n",
      "Total run time:   1.19s\n",
      "45454.54545454545\n",
      "Total run time:   1.22s\n",
      "46464.64646464646\n",
      "Total run time:   1.18s\n",
      "47474.74747474747\n",
      "Total run time:   1.20s\n",
      "48484.84848484848\n",
      "Total run time:   1.19s\n",
      "49494.94949494949\n",
      "Total run time:   1.19s\n",
      "50505.0505050505\n",
      "Total run time:   1.19s\n",
      "51515.15151515151\n",
      "Total run time:   1.19s\n",
      "52525.25252525252\n",
      "Total run time:   1.20s\n",
      "53535.35353535353\n",
      "Total run time:   1.18s\n",
      "54545.454545454544\n",
      "Total run time:   1.18s\n",
      "55555.555555555555\n",
      "Total run time:   1.16s\n",
      "56565.656565656565\n",
      "Total run time:   1.17s\n",
      "57575.757575757576\n",
      "Total run time:   1.17s\n",
      "58585.85858585858\n",
      "Total run time:   1.16s\n",
      "59595.95959595959\n",
      "Total run time:   1.16s\n",
      "60606.0606060606\n",
      "Total run time:   1.17s\n",
      "61616.16161616161\n",
      "Total run time:   1.15s\n",
      "62626.26262626262\n",
      "Total run time:   1.15s\n",
      "63636.36363636363\n",
      "Total run time:   1.15s\n",
      "64646.46464646464\n",
      "Total run time:   1.15s\n",
      "65656.56565656565\n",
      "Total run time:   1.10s\n",
      "66666.66666666666\n",
      "Total run time:   1.13s\n",
      "67676.76767676767\n",
      "Total run time:   1.11s\n",
      "68686.86868686868\n",
      "Total run time:   1.08s\n",
      "69696.9696969697\n",
      "Total run time:   1.09s\n",
      "70707.0707070707\n",
      "Total run time:   1.08s\n",
      "71717.17171717172\n",
      "Total run time:   1.06s\n",
      "72727.27272727272\n",
      "Total run time:   1.05s\n",
      "73737.37373737374\n",
      "Total run time:   1.04s\n",
      "74747.47474747474\n",
      "Total run time:   1.02s\n",
      "75757.57575757576\n",
      "Total run time:   1.03s\n",
      "76767.67676767676\n",
      "Total run time:   1.03s\n",
      "77777.77777777777\n",
      "Total run time:   1.00s\n",
      "78787.87878787878\n",
      "Total run time:   1.01s\n",
      "79797.97979797979\n",
      "Total run time:   0.98s\n",
      "80808.0808080808\n",
      "Total run time:   1.00s\n",
      "81818.18181818181\n",
      "Total run time:   0.97s\n",
      "82828.28282828283\n",
      "Total run time:   0.96s\n",
      "83838.38383838383\n",
      "Total run time:   0.95s\n",
      "84848.48484848485\n",
      "Total run time:   0.95s\n",
      "85858.58585858585\n",
      "Total run time:   0.94s\n",
      "86868.68686868687\n",
      "Total run time:   0.93s\n",
      "87878.78787878787\n",
      "Total run time:   0.96s\n",
      "88888.88888888889\n",
      "Total run time:   0.98s\n",
      "89898.9898989899\n",
      "Total run time:   0.93s\n",
      "90909.0909090909\n",
      "Total run time:   0.95s\n",
      "91919.19191919192\n",
      "Total run time:   0.93s\n",
      "92929.29292929292\n",
      "Total run time:   0.89s\n",
      "93939.39393939394\n",
      "Total run time:   0.92s\n",
      "94949.49494949494\n",
      "Total run time:   0.93s\n",
      "95959.59595959596\n",
      "Total run time:   0.89s\n",
      "96969.69696969696\n",
      "Total run time:   0.90s\n",
      "97979.79797979798\n",
      "Total run time:   0.93s\n",
      "98989.89898989898\n",
      "Total run time:   0.90s\n",
      "100000.0\n",
      "Total run time:   0.89s\n"
     ]
    }
   ],
   "source": [
    "jumps, times =  OneTrajectory(H0, c_ops_list, psi0, tlist, args)"
   ]
  },
  {
   "cell_type": "code",
   "execution_count": 31,
   "id": "03a5b6e3-ee8f-47bd-b55a-632b6cf94fb5",
   "metadata": {
    "scrolled": true
   },
   "outputs": [
    {
     "name": "stdout",
     "output_type": "stream",
     "text": [
      "[-242.91561648627254, -275.4989297805413, -195.95543732842202, -179.41675360090275, -227.42605236767335, -266.3427792274814, -250.2093934404622, -177.65130161878005, -294.9658280241677, -308.69644448399873, -253.02343867045997, -232.18892118099996, -219.33523934724516, -242.1425920408642, -299.50579699094317, -296.3700250102456, -296.7647992026526, -327.28732060121683, -354.6638714059298, -294.73256601954716, -330.0917265220361, -268.68954902551695, -448.0522242118217, -333.11472014793975, -327.09687318948005, -355.72219457726385, -380.50682541893997, -305.9062076762831, -413.56858555874186, -361.572151911136, -275.74779847083425, -312.6515052945869, -310.25830692360387, -374.25798401491346, -384.14746474846345, -281.4215619990573, -358.3493468407716, -442.24758605924467, -382.1913987556931, -392.2350884822689, -422.90696333949455, -384.43505292429097, -436.41893614546655, -346.8695246129346, -381.2526680617117, -424.9415956206407, -444.5665755587871, -377.4421060063358, -321.9950661785905, -464.5966055503166, -408.61719044626653, -437.2253922809142, -415.8512847984787, -339.94034164555745, -396.3874185723875, -447.35081154667563, -423.724176323783, -320.2294342621491, -430.56554605499304, -387.56571930324236, -398.7233831794529, -431.9627701219195, -343.7987525186781, -436.3382745517059, -358.13421895092864, -311.17373940875206, -362.1021011173044, -373.18580803533797, -350.9428483480211, -344.5023368298982, -273.2037503019026, -376.33277437281606, -392.4318618650338, -334.8404274447358, -301.2869942732124, -387.4822757872443, -312.36510298028685, -273.8490040494646, -315.18125293563685, -290.52918800301086, -282.5738344670042, -265.12134605797905, -286.0505874799595, -280.7738337635777, -222.27635422431078, -280.7010973649799, -268.85611998319246, -321.6418844406417, -335.27466744489067, -230.03211077525194, -248.00970469557015, -292.7627204075053, -271.62619819044744, -307.213920196394, -272.41144340652596, -278.2505212469799, -198.6453547922621, -252.2717492286756, -154.27152370373543, -249.16472722382298]\n"
     ]
    }
   ],
   "source": [
    "ent = Trott_organize_jumps(times, jumps, Nsteps, args)"
   ]
  },
  {
   "cell_type": "code",
   "execution_count": 32,
   "id": "1d5f772a-33a3-4fe2-a5bf-9bb1a1739453",
   "metadata": {},
   "outputs": [
    {
     "data": {
      "image/png": "[encoded data removed]",
      "text/plain": [
       "<Figure size 700x350 with 1 Axes>"
      ]
     },
     "metadata": {},
     "output_type": "display_data"
    }
   ],
   "source": [
    "fig, ax = plt.subplots(1,1, figsize=(7, 3.5), \n",
    "                       layout='compressed')\n",
    "\n",
    "ax.scatter(np.arange(Nsteps)/Nsteps, ent)\n",
    "\n",
    "ax.set_ylim(-1,0)\n",
    "\n",
    "ax.set_box_aspect(1)\n"
   ]
  },
  {
   "cell_type": "markdown",
   "id": "14653519-9e7c-481a-b96f-9515595ad0af",
   "metadata": {},
   "source": [
    "# Activity in a path\n",
    "\n",
    "I have to calculate the value of the derivative for each time interval, then see in each point in $s(t)$"
   ]
  },
  {
   "cell_type": "code",
   "execution_count": 33,
   "id": "cec8c5e7-5c73-4004-8763-fa68cda9643c",
   "metadata": {},
   "outputs": [],
   "source": [
    "############# Get scaled cumulant generating function\n",
    "\n",
    "\n",
    "\n",
    "\n",
    "\n",
    "def f(H0, cops, tlist, slist, args):\n",
    "    grid = np.zeros((len(tlist), len(slist)))\n",
    "\n",
    "    for i, t in enumerate(tlist):\n",
    "        aux_cops = [c[0]*c[1](t, args) for c in cops]\n",
    "        for j, s in enumerate(slist):\n",
    "            args[\"s_func\"] = lambda t, args: s\n",
    "            e_val, e_vec =  Numeric_diagonalization(Tilted_lindbladian(t, H0, aux_cops, args), side=\"right\")\n",
    "            grid[i][j] = np.real(e_val)\n",
    "            \n",
    "    return grid.real  \n",
    "\n",
    "############# Get activities for a trajectory\n",
    "\n",
    "def get_activities(H0, cops, slist, tlist, args):\n",
    "    flist = f(H0, cops, tlist, slist, args)\n",
    "    # Compute the Legendre transform for each k\n",
    "    return -np.gradient(flist, slist, edge_order=2)"
   ]
  },
  {
   "cell_type": "code",
   "execution_count": 36,
   "id": "5beafc44-0e03-4b1b-95f1-2aa77161b3ca",
   "metadata": {},
   "outputs": [],
   "source": [
    "Slen = 1000\n",
    "Tlen = 20\n",
    "\n",
    "slist = np.linspace(-0.25-0.001, -0.25+0.001, Slen)\n",
    "tlist = np.linspace(0, args[\"tau\"], Tlen)\n",
    "\n",
    "grid = f(H0, c_ops_list, tlist, slist, args)"
   ]
  },
  {
   "cell_type": "code",
   "execution_count": 37,
   "id": "bc22c13a-41bd-432c-83f4-a0f0d587df66",
   "metadata": {},
   "outputs": [],
   "source": [
    "activities = -np.gradient(grid, slist[1]-slist[0],  edge_order=2, axis=1)"
   ]
  },
  {
   "cell_type": "code",
   "execution_count": null,
   "id": "f5d423ba-31d7-4610-bd91-6c0dccf3644e",
   "metadata": {},
   "outputs": [],
   "source": []
  },
  {
   "cell_type": "code",
   "execution_count": 38,
   "id": "ddc72b2c-0fad-4884-ad5c-84ff56beb3df",
   "metadata": {},
   "outputs": [
    {
     "data": {
      "text/plain": [
       "[<matplotlib.lines.Line2D at 0x127763b90>]"
      ]
     },
     "execution_count": 38,
     "metadata": {},
     "output_type": "execute_result"
    },
    {
     "data": {
      "image/png": "[encoded data removed]",
      "text/plain": [
       "<Figure size 640x480 with 1 Axes>"
      ]
     },
     "metadata": {},
     "output_type": "display_data"
    }
   ],
   "source": [
    "plt.scatter(np.linspace(0, Nsteps, Nsteps)/(Nsteps), ent)\n",
    "\n",
    "plt.plot(tlist/args[\"tau\"], activities[:,int(Slen/2)])\n",
    "\n",
    "\n",
    "#plt.ylim((-1,0))"
   ]
  },
  {
   "cell_type": "code",
   "execution_count": null,
   "id": "4405b027-77fe-44f9-9d26-22463f792cbf",
   "metadata": {},
   "outputs": [],
   "source": []
  },
  {
   "cell_type": "code",
   "execution_count": null,
   "id": "c643ba6d-121e-4885-9652-609ece78d0fb",
   "metadata": {},
   "outputs": [],
   "source": []
  },
  {
   "cell_type": "code",
   "execution_count": null,
   "id": "f97f55a8-b409-4104-8fe5-40bde8702ce3",
   "metadata": {},
   "outputs": [],
   "source": []
  },
  {
   "cell_type": "code",
   "execution_count": null,
   "id": "5f9e12ac-719a-47f3-9b08-a40c9ed58001",
   "metadata": {},
   "outputs": [],
   "source": []
  },
  {
   "cell_type": "code",
   "execution_count": null,
   "id": "7b93baa5-92ac-4411-b9ad-ff763749bd83",
   "metadata": {},
   "outputs": [],
   "source": []
  },
  {
   "cell_type": "code",
   "execution_count": null,
   "id": "ca5b7555-daae-4a0a-9abf-5168098e147f",
   "metadata": {},
   "outputs": [],
   "source": []
  },
  {
   "cell_type": "code",
   "execution_count": 181,
   "id": "aa5f19cc-ad08-4d23-a60f-f9b1876a8dba",
   "metadata": {},
   "outputs": [
    {
     "data": {
      "text/plain": [
       "Text(0, 0.5, '$s$')"
      ]
     },
     "execution_count": 181,
     "metadata": {},
     "output_type": "execute_result"
    },
    {
     "data": {
      "image/png": "[encoded data removed]",
      "text/plain": [
       "<Figure size 500x500 with 2 Axes>"
      ]
     },
     "metadata": {},
     "output_type": "display_data"
    }
   ],
   "source": [
    "\n",
    "S, T = np.meshgrid(slist, tlist/args[\"tau\"])\n",
    "# Plot the original function and its Legendre transform\n",
    "fig, ax = plt.subplots(1,1,figsize=(5, 5), \n",
    "                       layout='compressed')\n",
    "\n",
    "\n",
    "cbar = ax.pcolormesh(T, S, activities.real, cmap=\"Greys\",rasterized=True)\n",
    "cbar1 = fig.colorbar(cbar, ax=ax, pad=.05, fraction=0.05,  orientation='vertical')\n",
    "cbar1.ax.set_xlabel(r\"$Q$\", labelpad=-290, va='top')\n",
    "\n",
    "\n",
    "\n",
    "ax.set_xlabel(r\"time $t/\\tau$\")\n",
    "ax.set_ylabel(r\"$s$\")"
   ]
  },
  {
   "cell_type": "code",
   "execution_count": null,
   "id": "c9408451-f544-4848-9cf6-5c2859d30129",
   "metadata": {},
   "outputs": [],
   "source": []
  },
  {
   "cell_type": "code",
   "execution_count": null,
   "id": "cedf005a-f20c-4e1b-b951-87d7ae3c65c9",
   "metadata": {},
   "outputs": [],
   "source": []
  },
  {
   "cell_type": "code",
   "execution_count": null,
   "id": "4d7d16b4-30a8-4cc1-98d4-4e337ce1f6d7",
   "metadata": {},
   "outputs": [],
   "source": []
  },
  {
   "cell_type": "code",
   "execution_count": null,
   "id": "153ef77c-caea-444e-ba96-94bab4162e74",
   "metadata": {},
   "outputs": [],
   "source": []
  },
  {
   "cell_type": "code",
   "execution_count": null,
   "id": "0ff97442-3ff4-4dd0-adcb-bd8ddb34584a",
   "metadata": {},
   "outputs": [],
   "source": []
  },
  {
   "cell_type": "code",
   "execution_count": null,
   "id": "347419eb-c460-45af-aee2-91f979629a59",
   "metadata": {},
   "outputs": [],
   "source": []
  },
  {
   "cell_type": "code",
   "execution_count": null,
   "id": "16bf1f40-a0a6-493e-9d25-5a2bb5102f45",
   "metadata": {},
   "outputs": [],
   "source": []
  },
  {
   "cell_type": "code",
   "execution_count": null,
   "id": "ec3117be-b388-49c4-bfbd-29392ebfbffd",
   "metadata": {},
   "outputs": [],
   "source": []
  },
  {
   "cell_type": "code",
   "execution_count": null,
   "id": "f5368d5c-7797-478f-b9ef-021a676626a2",
   "metadata": {},
   "outputs": [],
   "source": []
  },
  {
   "cell_type": "code",
   "execution_count": 86,
   "id": "743baf02-b23d-4218-b8e6-2b5f226ce56e",
   "metadata": {},
   "outputs": [
    {
     "name": "stderr",
     "output_type": "stream",
     "text": [
      "/var/folders/lv/nmcn0_7s3sv_bdldgwhvxr_40000gn/T/ipykernel_42338/927238154.py:12: ComplexWarning: Casting complex values to real discards the imaginary part\n",
      "  res[i][j] = e_val\n"
     ]
    }
   ],
   "source": [
    "Nintervals = 100\n",
    "\n",
    "#slist = np.tanh((np.linspace(0, 1, Nintervals)-0.5))\n",
    "slist = np.linspace(-1, 1, Nintervals)\n",
    "tlist = np.linspace(0, args[\"tau\"], Nintervals)\n",
    "\n",
    "\n",
    "grid = f(H0, c_ops, tlist, slist, Nintervals, args)"
   ]
  },
  {
   "cell_type": "code",
   "execution_count": 87,
   "id": "9aa055b8-b785-40bb-8347-4dc58e9a20dc",
   "metadata": {},
   "outputs": [
    {
     "data": {
      "text/plain": [
       "<matplotlib.image.AxesImage at 0x153d69760>"
      ]
     },
     "execution_count": 87,
     "metadata": {},
     "output_type": "execute_result"
    },
    {
     "data": {
      "image/png": "[encoded data removed]",
      "text/plain": [
       "<Figure size 480x480 with 1 Axes>"
      ]
     },
     "metadata": {},
     "output_type": "display_data"
    }
   ],
   "source": [
    "plt.matshow(grid)"
   ]
  },
  {
   "cell_type": "code",
   "execution_count": 100,
   "id": "b56ecaea-1356-4d52-9e6a-a9398075a834",
   "metadata": {},
   "outputs": [
    {
     "data": {
      "text/plain": [
       "[<matplotlib.lines.Line2D at 0x154a1b4d0>]"
      ]
     },
     "execution_count": 100,
     "metadata": {},
     "output_type": "execute_result"
    },
    {
     "data": {
      "image/png": "[encoded data removed]",
      "text/plain": [
       "<Figure size 640x480 with 1 Axes>"
      ]
     },
     "metadata": {},
     "output_type": "display_data"
    }
   ],
   "source": [
    "plt.plot(grid.T[10])"
   ]
  },
  {
   "cell_type": "code",
   "execution_count": 93,
   "id": "6c43c75c-df73-4514-a4ec-23a3174f084b",
   "metadata": {},
   "outputs": [
    {
     "data": {
      "text/plain": [
       "[<matplotlib.lines.Line2D at 0x1543fe1b0>]"
      ]
     },
     "execution_count": 93,
     "metadata": {},
     "output_type": "execute_result"
    },
    {
     "data": {
      "image/png": "[encoded data removed]",
      "text/plain": [
       "<Figure size 640x480 with 1 Axes>"
      ]
     },
     "metadata": {},
     "output_type": "display_data"
    }
   ],
   "source": [
    "plt.plot(-np.gradient(grid.T, slist, axis=1)[50)"
   ]
  },
  {
   "cell_type": "code",
   "execution_count": null,
   "id": "947e195b-5395-44b0-a5ff-d994d779d8d8",
   "metadata": {},
   "outputs": [],
   "source": []
  },
  {
   "cell_type": "code",
   "execution_count": null,
   "id": "1265db79-e6e3-4811-ba23-2ca0350d188b",
   "metadata": {},
   "outputs": [],
   "source": []
  },
  {
   "cell_type": "code",
   "execution_count": null,
   "id": "8ac0a552-cac4-439d-aac7-9e40ebf904c7",
   "metadata": {},
   "outputs": [],
   "source": []
  },
  {
   "cell_type": "code",
   "execution_count": null,
   "id": "5e2c07ef-19b4-453e-8442-a2449fb82f21",
   "metadata": {},
   "outputs": [],
   "source": []
  },
  {
   "cell_type": "code",
   "execution_count": null,
   "id": "3d625b12-d33c-4979-903f-10d70e54dd6d",
   "metadata": {},
   "outputs": [],
   "source": []
  },
  {
   "cell_type": "code",
   "execution_count": 119,
   "id": "4b03c8f0",
   "metadata": {},
   "outputs": [
    {
     "name": "stdout",
     "output_type": "stream",
     "text": [
      "50.0%. Run time: 274.34s. Est. time left: 00:00:04:34\n",
      "100.0%. Run time: 277.07s. Est. time left: 00:00:00:00\n",
      "Total run time: 277.08s\n"
     ]
    }
   ],
   "source": [
    "ntraj=1000\n",
    "result = qt.mcsolve(H0, psi0, tlist, c_ops, args=args, ntraj=2)"
   ]
  },
  {
   "cell_type": "code",
   "execution_count": 122,
   "id": "bc4e4ad9",
   "metadata": {},
   "outputs": [
    {
     "data": {
      "text/plain": [
       "array([1.29226153e-02, 2.44614240e-01, 3.75737287e-01, ...,\n",
       "       9.99959316e+03, 9.99975289e+03, 9.99977600e+03])"
      ]
     },
     "execution_count": 122,
     "metadata": {},
     "output_type": "execute_result"
    }
   ],
   "source": [
    "result.col_times[0]"
   ]
  },
  {
   "cell_type": "code",
   "execution_count": 125,
   "id": "8e038aff",
   "metadata": {},
   "outputs": [],
   "source": [
    "Nboxes = 10\n",
    "\n",
    "entropy_data = []\n",
    "for traj in range(2):\n",
    "    times, jumps, entropy = organize_jumps(result.col_times[traj], result.col_which[traj], Nboxes, args)\n",
    "    entropy_data.append(entropy)\n",
    "    \n",
    "entropy_data = np.array(entropy_data)\n",
    "\n",
    "mean_values = np.mean(np.array(entropy_data).T, axis=1)\n",
    "std_dev_values = np.std(np.array(entropy_data).T, axis=1)\n"
   ]
  },
  {
   "cell_type": "code",
   "execution_count": null,
   "id": "02b1299b",
   "metadata": {},
   "outputs": [],
   "source": [
    "#np.savetxt(\"EntropyPC_5000trajs_meanvalue.txt\", mean_values)\n",
    "#np.savetxt(\"EntropyPC_5000trajs_std.txt\", std_dev_values)\n"
   ]
  },
  {
   "cell_type": "code",
   "execution_count": 179,
   "id": "dad9093d",
   "metadata": {},
   "outputs": [
    {
     "data": {
      "image/png": "[encoded data removed]",
      "text/plain": [
       "<Figure size 700x350 with 1 Axes>"
      ]
     },
     "metadata": {},
     "output_type": "display_data"
    }
   ],
   "source": [
    "\n",
    "fig, ax = plt.subplots(1,1, figsize=(7, 3.5), \n",
    "                       layout='compressed')\n",
    "\n",
    "ax.errorbar( np.arange(Nboxes)/Nboxes, mean_values, yerr=std_dev_values,  elinewidth=0.5, fmt=\"o\")\n",
    "ax.set_ylim(-2,1)\n",
    "\n",
    "\n",
    "ax.set_box_aspect(1)\n",
    "\n"
   ]
  },
  {
   "cell_type": "code",
   "execution_count": 177,
   "id": "ac2846cd",
   "metadata": {},
   "outputs": [
    {
     "data": {
      "text/plain": [
       "array([1.29226153e-02, 2.44614240e-01, 3.75737287e-01, ...,\n",
       "       9.99959316e+03, 9.99975289e+03, 9.99977600e+03])"
      ]
     },
     "execution_count": 177,
     "metadata": {},
     "output_type": "execute_result"
    }
   ],
   "source": [
    "result.col_times[0]"
   ]
  },
  {
   "cell_type": "code",
   "execution_count": 178,
   "id": "884329a6",
   "metadata": {},
   "outputs": [
    {
     "data": {
      "text/plain": [
       "Text(0.5, 0, '$\\\\sigma$')"
      ]
     },
     "execution_count": 178,
     "metadata": {},
     "output_type": "execute_result"
    },
    {
     "data": {
      "image/png": "[encoded data removed]",
      "text/plain": [
       "<Figure size 343.056x138.889 with 1 Axes>"
      ]
     },
     "metadata": {},
     "output_type": "display_data"
    }
   ],
   "source": [
    "fig = plt.figure(figsize=(247 / 72, 100 /72))\n",
    "\n",
    "plt.plot(np.arange(10))\n",
    "plt.xlabel(r\"$\\sigma$\")"
   ]
  },
  {
   "cell_type": "code",
   "execution_count": 53,
   "id": "feef993c",
   "metadata": {},
   "outputs": [],
   "source": []
  }
 ],
 "metadata": {
  "kernelspec": {
   "display_name": "Python 3 (ipykernel)",
   "language": "python",
   "name": "python3"
  },
  "language_info": {
   "codemirror_mode": {
    "name": "ipython",
    "version": 3
   },
   "file_extension": ".py",
   "mimetype": "text/x-python",
   "name": "python",
   "nbconvert_exporter": "python",
   "pygments_lexer": "ipython3",
   "version": "3.12.0"
  }
 },
 "nbformat": 4,
 "nbformat_minor": 5
}
