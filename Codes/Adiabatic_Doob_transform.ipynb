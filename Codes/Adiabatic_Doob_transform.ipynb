{
 "cells": [
  {
   "cell_type": "code",
   "execution_count": 21,
   "id": "859a1642",
   "metadata": {},
   "outputs": [
    {
     "ename": "LoadError",
     "evalue": "MethodError: no method matching mcwf_dynamic(::typeof(master_equation), ::Ket{SpinBasis{1//2, Int64}, Vector{ComplexF64}}, ::StepRangeLen{Float64, Base.TwicePrecision{Float64}, Base.TwicePrecision{Float64}, Int64}, ::typeof(time_dependent_hamiltonian_and_jumps))\n\u001b[0mClosest candidates are:\n\u001b[0m  mcwf_dynamic(::Any, ::Ket, ::Any; seed, rates, fout, display_beforeevent, display_afterevent, kwargs...) at ~/.julia/packages/QuantumOptics/eon5P/src/mcwf.jl:161",
     "output_type": "error",
     "traceback": [
      "MethodError: no method matching mcwf_dynamic(::typeof(master_equation), ::Ket{SpinBasis{1//2, Int64}, Vector{ComplexF64}}, ::StepRangeLen{Float64, Base.TwicePrecision{Float64}, Base.TwicePrecision{Float64}, Int64}, ::typeof(time_dependent_hamiltonian_and_jumps))\n\u001b[0mClosest candidates are:\n\u001b[0m  mcwf_dynamic(::Any, ::Ket, ::Any; seed, rates, fout, display_beforeevent, display_afterevent, kwargs...) at ~/.julia/packages/QuantumOptics/eon5P/src/mcwf.jl:161",
      "",
      "Stacktrace:",
      " [1] top-level scope",
      "   @ In[21]:51"
     ]
    }
   ],
   "source": [
    "using QuantumOptics\n",
    "using PyPlot\n",
    "\n",
    "# Define the rotating Hamiltonian\n",
    "function rotating_hamiltonian(Ω, Δ)\n",
    "    ω = Ω + Δ\n",
    "    H = Ω / 2 * sigmax() + Δ / 2 * sigmaz()\n",
    "    return ω, H\n",
    "end\n",
    "\n",
    "# Define the rotating jump operators\n",
    "function rotating_jump_operators(Ω)\n",
    "    c1 = Ω / 2 * sigmam()\n",
    "    c2 = Ω / 2 * sigmap()\n",
    "    return [c1, c2]\n",
    "end\n",
    "\n",
    "# Define the time-dependent parameters\n",
    "function time_dependent_parameters(t, Ω0, Δ0)\n",
    "    Ω = Ω0 * cos(t)\n",
    "    Δ = Δ0 * sin(t)\n",
    "    return Ω, Δ\n",
    "end\n",
    "\n",
    "# Set up the initial state\n",
    "basis = SpinBasis(1//2)\n",
    "Ψ₀ = spindown(b_spin)  # Assuming you want to start in the ground state\n",
    "\n",
    "# Set up the time vector\n",
    "tspan = 0:0.1:10\n",
    "\n",
    "# Set up the time-dependent parameters\n",
    "Ω0 = 1.0\n",
    "Δ0 = 0.5\n",
    "\n",
    "# Define the time-dependent Hamiltonian and jump operators\n",
    "function time_dependent_hamiltonian_and_jumps(t, args)\n",
    "    Ω, Δ = time_dependent_parameters(t, Ω0, Δ0)\n",
    "    ω, H = rotating_hamiltonian(Ω, Δ)\n",
    "    jumps = rotating_jump_operators(Ω)\n",
    "    return ω, H, jumps\n",
    "end\n",
    "\n",
    "# Define the master equation\n",
    "function master_equation(du, u, ω, H, jumps)\n",
    "    hamiltonian_part!(du, u, H)\n",
    "    jump_part!(du, u, jumps)\n",
    "end\n",
    "\n",
    "# Run the time evolution\n",
    "output = timeevolution.mcwf_dynamic(master_equation, Ψ₀, tspan, time_dependent_hamiltonian_and_jumps)\n",
    "\n",
    "# Plot the results\n",
    "plot(tspan, real(output.expect[1]), label=\"σx\")\n",
    "plot(tspan, real(output.expect[2]), label=\"σy\")\n",
    "plot(tspan, real(output.expect[3]), label=\"σz\")\n",
    "xlabel(\"Time\")\n",
    "ylabel(\"Expectation Values\")\n",
    "legend()\n",
    "show()\n",
    "\n"
   ]
  },
  {
   "cell_type": "code",
   "execution_count": 17,
   "id": "d8dff9a0",
   "metadata": {},
   "outputs": [
    {
     "data": {
      "text/plain": [
       "Spin(1/2)"
      ]
     },
     "execution_count": 17,
     "metadata": {},
     "output_type": "execute_result"
    }
   ],
   "source": [
    "b_spin = SpinBasis(1//2)\n"
   ]
  },
  {
   "cell_type": "code",
   "execution_count": 20,
   "id": "9cc25f4c",
   "metadata": {},
   "outputs": [
    {
     "data": {
      "text/plain": [
       "Ket(dim=2)\n",
       "  basis: Spin(1/2)\n",
       " 0.0 + 0.0im\n",
       " 1.0 + 0.0im"
      ]
     },
     "execution_count": 20,
     "metadata": {},
     "output_type": "execute_result"
    }
   ],
   "source": [
    "spindown(b_spin)"
   ]
  },
  {
   "cell_type": "code",
   "execution_count": null,
   "id": "b8c7b28d",
   "metadata": {},
   "outputs": [],
   "source": []
  }
 ],
 "metadata": {
  "kernelspec": {
   "display_name": "Julia 1.8.5",
   "language": "julia",
   "name": "julia-1.8"
  },
  "language_info": {
   "file_extension": ".jl",
   "mimetype": "application/julia",
   "name": "julia",
   "version": "1.8.5"
  }
 },
 "nbformat": 4,
 "nbformat_minor": 5
}
